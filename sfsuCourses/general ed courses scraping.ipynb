{
 "cells": [
  {
   "cell_type": "code",
   "execution_count": 4,
   "metadata": {},
   "outputs": [
    {
     "name": "stdout",
     "output_type": "stream",
     "text": [
      "Requirement already satisfied: beautifulsoup4 in /Users/j/anaconda3/lib/python3.7/site-packages (4.8.1)\r\n",
      "Requirement already satisfied: soupsieve>=1.2 in /Users/j/anaconda3/lib/python3.7/site-packages (from beautifulsoup4) (1.9.3)\r\n"
     ]
    }
   ],
   "source": [
    "!pip install beautifulsoup4"
   ]
  },
  {
   "cell_type": "code",
   "execution_count": 95,
   "metadata": {},
   "outputs": [],
   "source": [
    "from selenium import webdriver\n",
    "from bs4 import BeautifulSoup\n",
    "import pandas as pd\n",
    "from tqdm.notebook import tqdm\n",
    "import csv"
   ]
  },
  {
   "cell_type": "code",
   "execution_count": 135,
   "metadata": {},
   "outputs": [],
   "source": [
    "driver = webdriver.Chrome(\"/Users/j/Downloads/chromedriver\")"
   ]
  },
  {
   "cell_type": "code",
   "execution_count": 142,
   "metadata": {},
   "outputs": [],
   "source": [
    "driver.get(\"http://bulletin.sfsu.edu/undergraduate-education/general-education/lower-division\")\n",
    "content = driver.page_source\n",
    "soup = BeautifulSoup(content)\n",
    "temp = list(soup.find_all('td',class_=\"\"))"
   ]
  },
  {
   "cell_type": "code",
   "execution_count": 143,
   "metadata": {},
   "outputs": [],
   "source": [
    "ld_ge_list = []\n",
    "for x in temp:\n",
    "    sentence = (str(x)[4:-5]) \n",
    "    ind = sentence.find(\"(\")\n",
    "    course = sentence[0:ind-1]\n",
    "    areas = sentence[ind+1:-1].replace(\" \", \"\").split(\",\")\n",
    "\n",
    "    ld_ge_list.append((course,areas))"
   ]
  },
  {
   "cell_type": "code",
   "execution_count": 144,
   "metadata": {},
   "outputs": [
    {
     "name": "stdout",
     "output_type": "stream",
     "text": [
      "('The Human Environment', ['D1', 'ES', 'GP'])\n",
      "('World Regions and Interrelations', ['D1', 'ES', 'GP'])\n",
      "('Introduction to World Affairs', ['D1', 'ES', 'GP', 'SJ'])\n",
      "('Health-Related Fitness and Wellness', ['D1', 'ES', 'GP', 'SJ'])\n"
     ]
    }
   ],
   "source": [
    "for x in ld_ge_list:\n",
    "#     and \"C1\" not in x[1]\n",
    "    if(( \"ES\" in x[1] and \"GP\" in x[1]) and\n",
    "      (\"C2\" in x[1] or \"D1\" in x[1] or \"D2\" in x[1] or \"D3\" in x[1])):\n",
    "        print(x)"
   ]
  },
  {
   "cell_type": "code",
   "execution_count": null,
   "metadata": {},
   "outputs": [],
   "source": []
  },
  {
   "cell_type": "code",
   "execution_count": null,
   "metadata": {},
   "outputs": [],
   "source": []
  },
  {
   "cell_type": "code",
   "execution_count": null,
   "metadata": {},
   "outputs": [],
   "source": []
  },
  {
   "cell_type": "code",
   "execution_count": 145,
   "metadata": {},
   "outputs": [],
   "source": [
    "driver.get(\"http://bulletin.sfsu.edu/undergraduate-education/general-education/upper-division/\")\n",
    "content = driver.page_source\n",
    "soup = BeautifulSoup(content)\n",
    "temp = list(soup.find_all('td',class_=\"\"))\n",
    "ud_ge_list = []\n",
    "for x in temp:\n",
    "    sentence = (str(x)[4:-5]) \n",
    "    ind = sentence.find(\"(\")\n",
    "    course = sentence[0:ind-1]\n",
    "    areas = sentence[ind+1:-1].replace(\" \", \"\").split(\",\")\n",
    "\n",
    "    ud_ge_list.append((course,areas))"
   ]
  },
  {
   "cell_type": "code",
   "execution_count": 150,
   "metadata": {},
   "outputs": [
    {
     "name": "stdout",
     "output_type": "stream",
     "text": [
      "('Our Endangered Planet', ['UD-B', 'LLD', 'AERM', 'ES', 'GP'])\n",
      "('Bay Area Culture', ['UD-C', 'AERM', 'ES', 'GP'])\n",
      "('Community Organizing and Community Building for Health', ['UD-C', 'LLD', 'AERM', 'ES', 'GP', 'SJ'])\n",
      "('Bay Area Culture', ['UD-C', 'AERM', 'ES', 'GP'])\n",
      "('Indigenismo: Indigenous Cultures of the Americas', ['UD-C', 'AERM', 'ES', 'GP'])\n",
      "('Women, Class, and Race', ['UD-C', 'AERM', 'ES', 'GP', 'SJ'])\n"
     ]
    }
   ],
   "source": [
    "for x in ud_ge_list:\n",
    "#     and \"C1\" not in x[1]\n",
    "    if(( \"ES\" in x[1] and \"GP\" in x[1] and \"AERM\" in x[1])):\n",
    "        print(x)"
   ]
  },
  {
   "cell_type": "code",
   "execution_count": null,
   "metadata": {},
   "outputs": [],
   "source": []
  }
 ],
 "metadata": {
  "kernelspec": {
   "display_name": "Python 3",
   "language": "python",
   "name": "python3"
  },
  "language_info": {
   "codemirror_mode": {
    "name": "ipython",
    "version": 3
   },
   "file_extension": ".py",
   "mimetype": "text/x-python",
   "name": "python",
   "nbconvert_exporter": "python",
   "pygments_lexer": "ipython3",
   "version": "3.7.4"
  }
 },
 "nbformat": 4,
 "nbformat_minor": 2
}
